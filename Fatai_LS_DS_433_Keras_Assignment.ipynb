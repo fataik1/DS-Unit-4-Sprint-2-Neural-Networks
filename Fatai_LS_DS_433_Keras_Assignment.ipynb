{
  "nbformat": 4,
  "nbformat_minor": 0,
  "metadata": {
    "colab": {
      "name": "Fatai_LS_DS_433_Keras_Assignment.ipynb",
      "provenance": [],
      "include_colab_link": true
    },
    "kernelspec": {
      "display_name": "Python 3",
      "language": "python",
      "name": "python3"
    },
    "language_info": {
      "codemirror_mode": {
        "name": "ipython",
        "version": 3
      },
      "file_extension": ".py",
      "mimetype": "text/x-python",
      "name": "python",
      "nbconvert_exporter": "python",
      "pygments_lexer": "ipython3",
      "version": "3.7.3"
    }
  },
  "cells": [
    {
      "cell_type": "markdown",
      "metadata": {
        "id": "view-in-github",
        "colab_type": "text"
      },
      "source": [
        "<a href=\"https://colab.research.google.com/github/fataik1/DS-Unit-4-Sprint-2-Neural-Networks/blob/master/Fatai_LS_DS_433_Keras_Assignment.ipynb\" target=\"_parent\"><img src=\"https://colab.research.google.com/assets/colab-badge.svg\" alt=\"Open In Colab\"/></a>"
      ]
    },
    {
      "cell_type": "markdown",
      "metadata": {
        "colab_type": "text",
        "id": "pBQsZEJmubLs"
      },
      "source": [
        "<img align=\"left\" src=\"https://lever-client-logos.s3.amazonaws.com/864372b1-534c-480e-acd5-9711f850815c-1524247202159.png\" width=200>\n",
        "<br></br>\n",
        "\n",
        "# Neural Network Framework (Keras)\n",
        "\n",
        "## *Data Science Unit 4 Sprint 2 Assignment 3*\n",
        "\n",
        "## Use the Keras Library to build a Multi-Layer Perceptron Model on the Boston Housing dataset\n",
        "\n",
        "- The Boston Housing dataset comes with the Keras library so use Keras to import it into your notebook. \n",
        "- Normalize the data (all features should have roughly the same scale)\n",
        "- Import the type of model and layers that you will need from Keras.\n",
        "- Instantiate a model object and use `model.add()` to add layers to your model\n",
        "- Since this is a regression model you will have a single output node in the final layer.\n",
        "- Use activation functions that are appropriate for this task\n",
        "- Compile your model\n",
        "- Fit your model and report its accuracy in terms of Mean Squared Error\n",
        "- Use the history object that is returned from model.fit to make graphs of the model's loss or train/validation accuracies by epoch. \n",
        "- Run this same data through a linear regression model. Which achieves higher accuracy?\n",
        "- Do a little bit of feature engineering and see how that affects your neural network model. (you will need to change your model to accept more inputs)\n",
        "- After feature engineering, which model sees a greater accuracy boost due to the new features?"
      ]
    },
    {
      "cell_type": "code",
      "metadata": {
        "id": "t9God7oxCjWT",
        "colab_type": "code",
        "colab": {}
      },
      "source": [
        "\n",
        "##### Your Code Here #####\n",
        "import numpy as np\n",
        "from tensorflow import keras\n",
        "from tensorflow.keras.datasets import boston_housing"
      ],
      "execution_count": 0,
      "outputs": []
    },
    {
      "cell_type": "code",
      "metadata": {
        "id": "sQkzqpuRCk5D",
        "colab_type": "code",
        "colab": {
          "base_uri": "https://localhost:8080/",
          "height": 51
        },
        "outputId": "3c92b1e7-0839-4cf4-88b7-698ae457a8a4"
      },
      "source": [
        "# train/test split\n",
        "(X_train, y_train), (X_test, y_test) = boston_housing.load_data()"
      ],
      "execution_count": 2,
      "outputs": [
        {
          "output_type": "stream",
          "text": [
            "Downloading data from https://storage.googleapis.com/tensorflow/tf-keras-datasets/boston_housing.npz\n",
            "57344/57026 [==============================] - 0s 0us/step\n"
          ],
          "name": "stdout"
        }
      ]
    },
    {
      "cell_type": "code",
      "metadata": {
        "id": "Ne67AMGDCotM",
        "colab_type": "code",
        "colab": {
          "base_uri": "https://localhost:8080/",
          "height": 238
        },
        "outputId": "884a5e27-4338-4678-d327-f476e0d7160a"
      },
      "source": [
        "X_train"
      ],
      "execution_count": 3,
      "outputs": [
        {
          "output_type": "execute_result",
          "data": {
            "text/plain": [
              "array([[1.23247e+00, 0.00000e+00, 8.14000e+00, ..., 2.10000e+01,\n",
              "        3.96900e+02, 1.87200e+01],\n",
              "       [2.17700e-02, 8.25000e+01, 2.03000e+00, ..., 1.47000e+01,\n",
              "        3.95380e+02, 3.11000e+00],\n",
              "       [4.89822e+00, 0.00000e+00, 1.81000e+01, ..., 2.02000e+01,\n",
              "        3.75520e+02, 3.26000e+00],\n",
              "       ...,\n",
              "       [3.46600e-02, 3.50000e+01, 6.06000e+00, ..., 1.69000e+01,\n",
              "        3.62250e+02, 7.83000e+00],\n",
              "       [2.14918e+00, 0.00000e+00, 1.95800e+01, ..., 1.47000e+01,\n",
              "        2.61950e+02, 1.57900e+01],\n",
              "       [1.43900e-02, 6.00000e+01, 2.93000e+00, ..., 1.56000e+01,\n",
              "        3.76700e+02, 4.38000e+00]])"
            ]
          },
          "metadata": {
            "tags": []
          },
          "execution_count": 3
        }
      ]
    },
    {
      "cell_type": "code",
      "metadata": {
        "id": "2rqMhCKnCrtV",
        "colab_type": "code",
        "colab": {
          "base_uri": "https://localhost:8080/",
          "height": 646
        },
        "outputId": "253be961-82b0-444e-9e0c-2371c52fc47d"
      },
      "source": [
        "y_train"
      ],
      "execution_count": 4,
      "outputs": [
        {
          "output_type": "execute_result",
          "data": {
            "text/plain": [
              "array([15.2, 42.3, 50. , 21.1, 17.7, 18.5, 11.3, 15.6, 15.6, 14.4, 12.1,\n",
              "       17.9, 23.1, 19.9, 15.7,  8.8, 50. , 22.5, 24.1, 27.5, 10.9, 30.8,\n",
              "       32.9, 24. , 18.5, 13.3, 22.9, 34.7, 16.6, 17.5, 22.3, 16.1, 14.9,\n",
              "       23.1, 34.9, 25. , 13.9, 13.1, 20.4, 20. , 15.2, 24.7, 22.2, 16.7,\n",
              "       12.7, 15.6, 18.4, 21. , 30.1, 15.1, 18.7,  9.6, 31.5, 24.8, 19.1,\n",
              "       22. , 14.5, 11. , 32. , 29.4, 20.3, 24.4, 14.6, 19.5, 14.1, 14.3,\n",
              "       15.6, 10.5,  6.3, 19.3, 19.3, 13.4, 36.4, 17.8, 13.5, 16.5,  8.3,\n",
              "       14.3, 16. , 13.4, 28.6, 43.5, 20.2, 22. , 23. , 20.7, 12.5, 48.5,\n",
              "       14.6, 13.4, 23.7, 50. , 21.7, 39.8, 38.7, 22.2, 34.9, 22.5, 31.1,\n",
              "       28.7, 46. , 41.7, 21. , 26.6, 15. , 24.4, 13.3, 21.2, 11.7, 21.7,\n",
              "       19.4, 50. , 22.8, 19.7, 24.7, 36.2, 14.2, 18.9, 18.3, 20.6, 24.6,\n",
              "       18.2,  8.7, 44. , 10.4, 13.2, 21.2, 37. , 30.7, 22.9, 20. , 19.3,\n",
              "       31.7, 32. , 23.1, 18.8, 10.9, 50. , 19.6,  5. , 14.4, 19.8, 13.8,\n",
              "       19.6, 23.9, 24.5, 25. , 19.9, 17.2, 24.6, 13.5, 26.6, 21.4, 11.9,\n",
              "       22.6, 19.6,  8.5, 23.7, 23.1, 22.4, 20.5, 23.6, 18.4, 35.2, 23.1,\n",
              "       27.9, 20.6, 23.7, 28. , 13.6, 27.1, 23.6, 20.6, 18.2, 21.7, 17.1,\n",
              "        8.4, 25.3, 13.8, 22.2, 18.4, 20.7, 31.6, 30.5, 20.3,  8.8, 19.2,\n",
              "       19.4, 23.1, 23. , 14.8, 48.8, 22.6, 33.4, 21.1, 13.6, 32.2, 13.1,\n",
              "       23.4, 18.9, 23.9, 11.8, 23.3, 22.8, 19.6, 16.7, 13.4, 22.2, 20.4,\n",
              "       21.8, 26.4, 14.9, 24.1, 23.8, 12.3, 29.1, 21. , 19.5, 23.3, 23.8,\n",
              "       17.8, 11.5, 21.7, 19.9, 25. , 33.4, 28.5, 21.4, 24.3, 27.5, 33.1,\n",
              "       16.2, 23.3, 48.3, 22.9, 22.8, 13.1, 12.7, 22.6, 15. , 15.3, 10.5,\n",
              "       24. , 18.5, 21.7, 19.5, 33.2, 23.2,  5. , 19.1, 12.7, 22.3, 10.2,\n",
              "       13.9, 16.3, 17. , 20.1, 29.9, 17.2, 37.3, 45.4, 17.8, 23.2, 29. ,\n",
              "       22. , 18. , 17.4, 34.6, 20.1, 25. , 15.6, 24.8, 28.2, 21.2, 21.4,\n",
              "       23.8, 31. , 26.2, 17.4, 37.9, 17.5, 20. ,  8.3, 23.9,  8.4, 13.8,\n",
              "        7.2, 11.7, 17.1, 21.6, 50. , 16.1, 20.4, 20.6, 21.4, 20.6, 36.5,\n",
              "        8.5, 24.8, 10.8, 21.9, 17.3, 18.9, 36.2, 14.9, 18.2, 33.3, 21.8,\n",
              "       19.7, 31.6, 24.8, 19.4, 22.8,  7.5, 44.8, 16.8, 18.7, 50. , 50. ,\n",
              "       19.5, 20.1, 50. , 17.2, 20.8, 19.3, 41.3, 20.4, 20.5, 13.8, 16.5,\n",
              "       23.9, 20.6, 31.5, 23.3, 16.8, 14. , 33.8, 36.1, 12.8, 18.3, 18.7,\n",
              "       19.1, 29. , 30.1, 50. , 50. , 22. , 11.9, 37.6, 50. , 22.7, 20.8,\n",
              "       23.5, 27.9, 50. , 19.3, 23.9, 22.6, 15.2, 21.7, 19.2, 43.8, 20.3,\n",
              "       33.2, 19.9, 22.5, 32.7, 22. , 17.1, 19. , 15. , 16.1, 25.1, 23.7,\n",
              "       28.7, 37.2, 22.6, 16.4, 25. , 29.8, 22.1, 17.4, 18.1, 30.3, 17.5,\n",
              "       24.7, 12.6, 26.5, 28.7, 13.3, 10.4, 24.4, 23. , 20. , 17.8,  7. ,\n",
              "       11.8, 24.4, 13.8, 19.4, 25.2, 19.4, 19.4, 29.1])"
            ]
          },
          "metadata": {
            "tags": []
          },
          "execution_count": 4
        }
      ]
    },
    {
      "cell_type": "code",
      "metadata": {
        "id": "g9gt-1IPCt-W",
        "colab_type": "code",
        "colab": {
          "base_uri": "https://localhost:8080/",
          "height": 34
        },
        "outputId": "95d075b3-6698-4c13-fbda-edb2503e2d29"
      },
      "source": [
        "\n",
        "# Normalize the data\n",
        "X_train = keras.utils.normalize(X_train)\n",
        "X_test = keras.utils.normalize(X_test)\n",
        "X_train.shape, y_train.shape"
      ],
      "execution_count": 5,
      "outputs": [
        {
          "output_type": "execute_result",
          "data": {
            "text/plain": [
              "((404, 13), (404,))"
            ]
          },
          "metadata": {
            "tags": []
          },
          "execution_count": 5
        }
      ]
    },
    {
      "cell_type": "code",
      "metadata": {
        "id": "Cov6Ouu8CyHQ",
        "colab_type": "code",
        "colab": {}
      },
      "source": [
        "# Import the type of model and layers that you will need from Keras.\n",
        "import os\n",
        "import datetime\n",
        "import tensorflow as tf\n",
        "from tensorflow.keras import regularizers\n",
        "from tensorflow.keras.models import Sequential\n",
        "from tensorflow.keras.layers import Dense, Flatten, Dropout\n",
        "from tensorflow.keras.callbacks import EarlyStopping\n",
        "from sklearn.preprocessing import MinMaxScaler"
      ],
      "execution_count": 0,
      "outputs": []
    },
    {
      "cell_type": "code",
      "metadata": {
        "id": "UkJEeiEGC1--",
        "colab_type": "code",
        "colab": {
          "base_uri": "https://localhost:8080/",
          "height": 663
        },
        "outputId": "68e290cb-43cd-4074-9b01-2055862ba68f"
      },
      "source": [
        "\n",
        "# Instantiate a model object and use model.add() to add layers to your model\n",
        "logdir = os.path.join(\"logs\", datetime.datetime.now().strftime(\"%Y%m%d-%H%M%S\"))\n",
        "tensorboard_callback = tf.keras.callbacks.TensorBoard(logdir, histogram_freq=1)\n",
        "\n",
        "stop = EarlyStopping(monitor='val_loss', min_delta=0.01, patience=3)\n",
        "\n",
        "model = Sequential()\n",
        "model.add(Dense(15, input_shape=(13,), activation='relu')) #elu 10\n",
        "model.add(Dense(40, activation='relu')) \n",
        "model.add(Dense(1, activation='relu'))\n",
        "\n",
        "# Compile your model\n",
        "model.compile(loss='mean_absolute_error', optimizer='adam', metrics=['MeanSquaredError'])\n",
        "\n",
        "# Fit your model and report its accuracy in terms of Mean Squared Error\n",
        "history = model.fit(X_train, y_train, epochs=100, validation_data=(X_test, y_test), callbacks=[tensorboard_callback, stop])"
      ],
      "execution_count": 7,
      "outputs": [
        {
          "output_type": "stream",
          "text": [
            "Epoch 1/100\n",
            "13/13 [==============================] - 0s 17ms/step - loss: 22.3282 - mean_squared_error: 582.8589 - val_loss: 22.8505 - val_mean_squared_error: 604.5593\n",
            "Epoch 2/100\n",
            "13/13 [==============================] - 0s 4ms/step - loss: 21.9692 - mean_squared_error: 566.4600 - val_loss: 22.4081 - val_mean_squared_error: 584.5475\n",
            "Epoch 3/100\n",
            "13/13 [==============================] - 0s 4ms/step - loss: 21.5214 - mean_squared_error: 546.8906 - val_loss: 21.9446 - val_mean_squared_error: 563.9227\n",
            "Epoch 4/100\n",
            "13/13 [==============================] - 0s 4ms/step - loss: 21.0260 - mean_squared_error: 525.5412 - val_loss: 21.3923 - val_mean_squared_error: 539.6943\n",
            "Epoch 5/100\n",
            "13/13 [==============================] - 0s 4ms/step - loss: 20.4113 - mean_squared_error: 500.0716 - val_loss: 20.6930 - val_mean_squared_error: 509.9813\n",
            "Epoch 6/100\n",
            "13/13 [==============================] - 0s 4ms/step - loss: 19.6306 - mean_squared_error: 468.5190 - val_loss: 19.8032 - val_mean_squared_error: 473.6674\n",
            "Epoch 7/100\n",
            "13/13 [==============================] - 0s 4ms/step - loss: 18.6426 - mean_squared_error: 430.5648 - val_loss: 18.6882 - val_mean_squared_error: 430.3949\n",
            "Epoch 8/100\n",
            "13/13 [==============================] - 0s 4ms/step - loss: 17.3947 - mean_squared_error: 384.8207 - val_loss: 17.2544 - val_mean_squared_error: 378.3054\n",
            "Epoch 9/100\n",
            "13/13 [==============================] - 0s 4ms/step - loss: 15.8211 - mean_squared_error: 331.7556 - val_loss: 15.5112 - val_mean_squared_error: 319.2826\n",
            "Epoch 10/100\n",
            "13/13 [==============================] - 0s 4ms/step - loss: 13.8996 - mean_squared_error: 273.1705 - val_loss: 13.5465 - val_mean_squared_error: 256.5055\n",
            "Epoch 11/100\n",
            "13/13 [==============================] - 0s 4ms/step - loss: 11.6682 - mean_squared_error: 214.0157 - val_loss: 11.3689 - val_mean_squared_error: 194.3697\n",
            "Epoch 12/100\n",
            "13/13 [==============================] - 0s 4ms/step - loss: 9.3684 - mean_squared_error: 158.0689 - val_loss: 9.1993 - val_mean_squared_error: 140.1106\n",
            "Epoch 13/100\n",
            "13/13 [==============================] - 0s 4ms/step - loss: 7.4104 - mean_squared_error: 113.8003 - val_loss: 7.5069 - val_mean_squared_error: 103.4578\n",
            "Epoch 14/100\n",
            "13/13 [==============================] - 0s 4ms/step - loss: 6.4026 - mean_squared_error: 90.0133 - val_loss: 6.5100 - val_mean_squared_error: 84.7987\n",
            "Epoch 15/100\n",
            "13/13 [==============================] - 0s 5ms/step - loss: 6.1348 - mean_squared_error: 80.9054 - val_loss: 6.2981 - val_mean_squared_error: 80.5241\n",
            "Epoch 16/100\n",
            "13/13 [==============================] - 0s 5ms/step - loss: 6.1103 - mean_squared_error: 78.9300 - val_loss: 6.2599 - val_mean_squared_error: 79.4699\n",
            "Epoch 17/100\n",
            "13/13 [==============================] - 0s 4ms/step - loss: 6.0785 - mean_squared_error: 78.6245 - val_loss: 6.2685 - val_mean_squared_error: 79.9199\n",
            "Epoch 18/100\n",
            "13/13 [==============================] - 0s 4ms/step - loss: 6.0477 - mean_squared_error: 78.7145 - val_loss: 6.2744 - val_mean_squared_error: 79.9948\n",
            "Epoch 19/100\n",
            "13/13 [==============================] - 0s 4ms/step - loss: 6.0198 - mean_squared_error: 78.5044 - val_loss: 6.2708 - val_mean_squared_error: 79.8564\n"
          ],
          "name": "stdout"
        }
      ]
    },
    {
      "cell_type": "code",
      "metadata": {
        "id": "x2idfNEQDfwH",
        "colab_type": "code",
        "colab": {
          "base_uri": "https://localhost:8080/",
          "height": 1000
        },
        "outputId": "28a408c3-33d1-4f60-e54a-4a83ab2b409e"
      },
      "source": [
        "\n",
        "# Second try:\n",
        "\n",
        "scaler = MinMaxScaler()\n",
        "\n",
        "X_train_scaled = scaler.fit_transform(X_train)\n",
        "X_test_scaled = scaler.transform(X_test)\n",
        "\n",
        "\n",
        "ogdir = os.path.join(\"logs\", datetime.datetime.now().strftime(\"%Y%m%d-%H%M%S\"))\n",
        "tensorboard_callback = tf.keras.callbacks.TensorBoard(logdir, histogram_freq=1)\n",
        "\n",
        "stop = EarlyStopping(monitor='mse', min_delta=0.01, patience=3)\n",
        "\n",
        "model = Sequential([\n",
        "    Flatten(),\n",
        "    Dense(32, input_dim = 404, activation='elu'),\n",
        "    Dense(32, activation='elu'),\n",
        "    Dense(1)\n",
        "])\n",
        "\n",
        "# Complile the model (report accuracy in terms of Mean Squared Error)\n",
        "model.compile(loss='mae', optimizer='adam', metrics=['mse'])\n",
        "\n",
        "# Fit the model \n",
        "history = model.fit(\n",
        "    x = X_train_scaled,\n",
        "    y = y_train,\n",
        "    epochs = 100,\n",
        "    validation_data = (X_test_scaled, y_test),\n",
        "    callbacks = [tensorboard_callback, stop], \n",
        ")"
      ],
      "execution_count": 8,
      "outputs": [
        {
          "output_type": "stream",
          "text": [
            "Epoch 1/100\n",
            "13/13 [==============================] - 0s 11ms/step - loss: 22.1573 - mse: 575.9382 - val_loss: 22.3744 - val_mse: 584.1993\n",
            "Epoch 2/100\n",
            "13/13 [==============================] - 0s 4ms/step - loss: 21.2895 - mse: 538.6983 - val_loss: 21.4403 - val_mse: 543.5712\n",
            "Epoch 3/100\n",
            "13/13 [==============================] - 0s 4ms/step - loss: 20.2283 - mse: 495.1768 - val_loss: 20.2144 - val_mse: 492.8170\n",
            "Epoch 4/100\n",
            "13/13 [==============================] - 0s 4ms/step - loss: 18.7866 - mse: 440.5096 - val_loss: 18.5104 - val_mse: 427.2694\n",
            "Epoch 5/100\n",
            "13/13 [==============================] - 0s 4ms/step - loss: 16.7902 - mse: 370.1666 - val_loss: 16.1977 - val_mse: 346.2325\n",
            "Epoch 6/100\n",
            "13/13 [==============================] - 0s 4ms/step - loss: 14.1668 - mse: 288.4398 - val_loss: 13.4237 - val_mse: 256.0226\n",
            "Epoch 7/100\n",
            "13/13 [==============================] - 0s 4ms/step - loss: 11.0934 - mse: 205.4232 - val_loss: 10.4152 - val_mse: 170.4998\n",
            "Epoch 8/100\n",
            "13/13 [==============================] - 0s 4ms/step - loss: 8.5351 - mse: 137.3110 - val_loss: 8.0237 - val_mse: 111.8958\n",
            "Epoch 9/100\n",
            "13/13 [==============================] - 0s 4ms/step - loss: 7.0977 - mse: 101.8213 - val_loss: 6.8772 - val_mse: 89.3213\n",
            "Epoch 10/100\n",
            "13/13 [==============================] - 0s 4ms/step - loss: 6.8260 - mse: 91.1071 - val_loss: 6.5264 - val_mse: 82.8951\n",
            "Epoch 11/100\n",
            "13/13 [==============================] - 0s 4ms/step - loss: 6.6392 - mse: 86.7318 - val_loss: 6.4446 - val_mse: 80.5610\n",
            "Epoch 12/100\n",
            "13/13 [==============================] - 0s 4ms/step - loss: 6.4296 - mse: 84.9526 - val_loss: 6.5246 - val_mse: 81.0795\n",
            "Epoch 13/100\n",
            "13/13 [==============================] - 0s 4ms/step - loss: 6.2425 - mse: 82.7167 - val_loss: 6.3936 - val_mse: 78.3528\n",
            "Epoch 14/100\n",
            "13/13 [==============================] - 0s 4ms/step - loss: 6.0444 - mse: 79.9325 - val_loss: 6.2305 - val_mse: 74.9278\n",
            "Epoch 15/100\n",
            "13/13 [==============================] - 0s 4ms/step - loss: 5.8617 - mse: 76.1485 - val_loss: 6.0460 - val_mse: 71.1227\n",
            "Epoch 16/100\n",
            "13/13 [==============================] - 0s 5ms/step - loss: 5.6740 - mse: 72.9039 - val_loss: 5.9674 - val_mse: 69.4202\n",
            "Epoch 17/100\n",
            "13/13 [==============================] - 0s 4ms/step - loss: 5.5219 - mse: 71.6396 - val_loss: 5.8668 - val_mse: 67.3035\n",
            "Epoch 18/100\n",
            "13/13 [==============================] - 0s 5ms/step - loss: 5.3613 - mse: 68.8361 - val_loss: 5.7518 - val_mse: 64.5528\n",
            "Epoch 19/100\n",
            "13/13 [==============================] - 0s 4ms/step - loss: 5.2418 - mse: 66.8004 - val_loss: 5.6839 - val_mse: 63.1598\n",
            "Epoch 20/100\n",
            "13/13 [==============================] - 0s 4ms/step - loss: 5.1432 - mse: 65.0352 - val_loss: 5.6114 - val_mse: 61.7300\n",
            "Epoch 21/100\n",
            "13/13 [==============================] - 0s 4ms/step - loss: 5.0559 - mse: 63.8777 - val_loss: 5.5552 - val_mse: 60.3384\n",
            "Epoch 22/100\n",
            "13/13 [==============================] - 0s 5ms/step - loss: 5.0069 - mse: 62.5544 - val_loss: 5.5143 - val_mse: 59.6702\n",
            "Epoch 23/100\n",
            "13/13 [==============================] - 0s 4ms/step - loss: 4.9518 - mse: 62.1840 - val_loss: 5.4743 - val_mse: 59.2609\n",
            "Epoch 24/100\n",
            "13/13 [==============================] - 0s 4ms/step - loss: 4.9038 - mse: 61.6215 - val_loss: 5.4262 - val_mse: 58.4227\n",
            "Epoch 25/100\n",
            "13/13 [==============================] - 0s 5ms/step - loss: 4.8545 - mse: 59.8131 - val_loss: 5.3613 - val_mse: 56.7879\n",
            "Epoch 26/100\n",
            "13/13 [==============================] - 0s 4ms/step - loss: 4.8005 - mse: 58.6930 - val_loss: 5.3322 - val_mse: 57.1908\n",
            "Epoch 27/100\n",
            "13/13 [==============================] - 0s 4ms/step - loss: 4.7508 - mse: 58.9925 - val_loss: 5.2771 - val_mse: 56.2903\n",
            "Epoch 28/100\n",
            "13/13 [==============================] - 0s 4ms/step - loss: 4.7023 - mse: 57.2983 - val_loss: 5.2096 - val_mse: 54.7607\n",
            "Epoch 29/100\n",
            "13/13 [==============================] - 0s 5ms/step - loss: 4.6628 - mse: 56.0602 - val_loss: 5.1510 - val_mse: 53.6916\n",
            "Epoch 30/100\n",
            "13/13 [==============================] - 0s 4ms/step - loss: 4.5995 - mse: 54.8738 - val_loss: 5.0881 - val_mse: 52.5195\n",
            "Epoch 31/100\n",
            "13/13 [==============================] - 0s 4ms/step - loss: 4.5590 - mse: 53.7286 - val_loss: 5.0456 - val_mse: 52.0097\n",
            "Epoch 32/100\n",
            "13/13 [==============================] - 0s 4ms/step - loss: 4.5151 - mse: 52.7224 - val_loss: 4.9847 - val_mse: 50.9407\n",
            "Epoch 33/100\n",
            "13/13 [==============================] - 0s 4ms/step - loss: 4.4554 - mse: 52.0668 - val_loss: 4.9211 - val_mse: 49.6234\n",
            "Epoch 34/100\n",
            "13/13 [==============================] - 0s 4ms/step - loss: 4.4144 - mse: 50.4512 - val_loss: 4.8739 - val_mse: 48.8404\n",
            "Epoch 35/100\n",
            "13/13 [==============================] - 0s 5ms/step - loss: 4.3714 - mse: 50.5538 - val_loss: 4.8522 - val_mse: 48.8716\n",
            "Epoch 36/100\n",
            "13/13 [==============================] - 0s 4ms/step - loss: 4.3286 - mse: 49.2014 - val_loss: 4.7556 - val_mse: 46.7130\n",
            "Epoch 37/100\n",
            "13/13 [==============================] - 0s 5ms/step - loss: 4.2897 - mse: 49.1598 - val_loss: 4.7610 - val_mse: 47.5284\n",
            "Epoch 38/100\n",
            "13/13 [==============================] - 0s 5ms/step - loss: 4.2386 - mse: 47.4260 - val_loss: 4.6606 - val_mse: 45.0268\n",
            "Epoch 39/100\n",
            "13/13 [==============================] - 0s 4ms/step - loss: 4.1933 - mse: 46.2037 - val_loss: 4.6557 - val_mse: 45.6401\n",
            "Epoch 40/100\n",
            "13/13 [==============================] - 0s 4ms/step - loss: 4.1669 - mse: 46.7230 - val_loss: 4.5664 - val_mse: 43.9404\n",
            "Epoch 41/100\n",
            "13/13 [==============================] - 0s 4ms/step - loss: 4.1173 - mse: 44.3317 - val_loss: 4.4847 - val_mse: 42.2719\n",
            "Epoch 42/100\n",
            "13/13 [==============================] - 0s 5ms/step - loss: 4.0821 - mse: 44.0494 - val_loss: 4.4761 - val_mse: 42.4834\n",
            "Epoch 43/100\n",
            "13/13 [==============================] - 0s 4ms/step - loss: 4.0482 - mse: 43.5702 - val_loss: 4.4188 - val_mse: 41.5492\n",
            "Epoch 44/100\n",
            "13/13 [==============================] - 0s 5ms/step - loss: 4.0153 - mse: 43.1952 - val_loss: 4.3561 - val_mse: 40.4977\n",
            "Epoch 45/100\n",
            "13/13 [==============================] - 0s 4ms/step - loss: 3.9687 - mse: 41.1828 - val_loss: 4.2956 - val_mse: 39.5430\n",
            "Epoch 46/100\n",
            "13/13 [==============================] - 0s 5ms/step - loss: 3.9388 - mse: 41.5335 - val_loss: 4.2238 - val_mse: 38.4198\n",
            "Epoch 47/100\n",
            "13/13 [==============================] - 0s 5ms/step - loss: 3.8987 - mse: 39.4997 - val_loss: 4.2001 - val_mse: 38.1082\n",
            "Epoch 48/100\n",
            "13/13 [==============================] - 0s 5ms/step - loss: 3.8767 - mse: 40.4875 - val_loss: 4.2009 - val_mse: 38.2553\n",
            "Epoch 49/100\n",
            "13/13 [==============================] - 0s 4ms/step - loss: 3.8519 - mse: 38.3119 - val_loss: 4.0505 - val_mse: 35.8029\n",
            "Epoch 50/100\n",
            "13/13 [==============================] - 0s 5ms/step - loss: 3.7950 - mse: 38.0149 - val_loss: 4.0594 - val_mse: 35.9874\n",
            "Epoch 51/100\n",
            "13/13 [==============================] - 0s 4ms/step - loss: 3.7915 - mse: 37.0849 - val_loss: 4.0210 - val_mse: 35.4044\n",
            "Epoch 52/100\n",
            "13/13 [==============================] - 0s 5ms/step - loss: 3.7477 - mse: 36.8777 - val_loss: 3.9164 - val_mse: 33.7469\n",
            "Epoch 53/100\n",
            "13/13 [==============================] - 0s 5ms/step - loss: 3.7032 - mse: 35.8707 - val_loss: 3.8812 - val_mse: 33.2327\n",
            "Epoch 54/100\n",
            "13/13 [==============================] - 0s 5ms/step - loss: 3.6784 - mse: 35.3910 - val_loss: 3.8335 - val_mse: 32.5584\n",
            "Epoch 55/100\n",
            "13/13 [==============================] - 0s 4ms/step - loss: 3.6631 - mse: 34.8038 - val_loss: 3.7856 - val_mse: 31.8175\n",
            "Epoch 56/100\n",
            "13/13 [==============================] - 0s 4ms/step - loss: 3.6266 - mse: 34.0266 - val_loss: 3.7577 - val_mse: 31.4397\n",
            "Epoch 57/100\n",
            "13/13 [==============================] - 0s 4ms/step - loss: 3.5966 - mse: 33.5782 - val_loss: 3.7080 - val_mse: 30.5082\n",
            "Epoch 58/100\n",
            "13/13 [==============================] - 0s 4ms/step - loss: 3.5678 - mse: 33.5593 - val_loss: 3.6929 - val_mse: 30.4176\n",
            "Epoch 59/100\n",
            "13/13 [==============================] - 0s 4ms/step - loss: 3.5552 - mse: 32.3514 - val_loss: 3.6722 - val_mse: 30.0617\n",
            "Epoch 60/100\n",
            "13/13 [==============================] - 0s 4ms/step - loss: 3.5144 - mse: 32.5155 - val_loss: 3.6236 - val_mse: 29.2048\n",
            "Epoch 61/100\n",
            "13/13 [==============================] - 0s 4ms/step - loss: 3.4847 - mse: 31.5656 - val_loss: 3.5874 - val_mse: 28.3440\n",
            "Epoch 62/100\n",
            "13/13 [==============================] - 0s 4ms/step - loss: 3.4691 - mse: 31.0686 - val_loss: 3.5925 - val_mse: 28.7150\n",
            "Epoch 63/100\n",
            "13/13 [==============================] - 0s 5ms/step - loss: 3.4340 - mse: 31.1255 - val_loss: 3.5486 - val_mse: 27.7340\n",
            "Epoch 64/100\n",
            "13/13 [==============================] - 0s 4ms/step - loss: 3.4111 - mse: 30.3459 - val_loss: 3.5015 - val_mse: 26.4835\n",
            "Epoch 65/100\n",
            "13/13 [==============================] - 0s 5ms/step - loss: 3.3907 - mse: 29.1560 - val_loss: 3.5072 - val_mse: 27.3120\n",
            "Epoch 66/100\n",
            "13/13 [==============================] - 0s 4ms/step - loss: 3.3822 - mse: 30.2346 - val_loss: 3.4763 - val_mse: 25.8265\n",
            "Epoch 67/100\n",
            "13/13 [==============================] - 0s 4ms/step - loss: 3.3440 - mse: 28.3830 - val_loss: 3.4802 - val_mse: 26.7026\n",
            "Epoch 68/100\n",
            "13/13 [==============================] - 0s 4ms/step - loss: 3.4019 - mse: 29.7362 - val_loss: 3.4511 - val_mse: 23.8453\n",
            "Epoch 69/100\n",
            "13/13 [==============================] - 0s 4ms/step - loss: 3.3717 - mse: 28.2946 - val_loss: 3.4408 - val_mse: 25.8256\n",
            "Epoch 70/100\n",
            "13/13 [==============================] - 0s 5ms/step - loss: 3.3044 - mse: 28.1461 - val_loss: 3.3691 - val_mse: 24.0682\n",
            "Epoch 71/100\n",
            "13/13 [==============================] - 0s 5ms/step - loss: 3.2976 - mse: 27.5014 - val_loss: 3.3645 - val_mse: 24.6441\n",
            "Epoch 72/100\n",
            "13/13 [==============================] - 0s 5ms/step - loss: 3.2980 - mse: 28.1917 - val_loss: 3.3551 - val_mse: 22.8499\n",
            "Epoch 73/100\n",
            "13/13 [==============================] - 0s 5ms/step - loss: 3.3141 - mse: 27.2822 - val_loss: 3.3890 - val_mse: 24.9157\n",
            "Epoch 74/100\n",
            "13/13 [==============================] - 0s 5ms/step - loss: 3.2609 - mse: 27.4821 - val_loss: 3.3170 - val_mse: 22.9842\n",
            "Epoch 75/100\n",
            "13/13 [==============================] - 0s 5ms/step - loss: 3.2311 - mse: 26.8960 - val_loss: 3.3040 - val_mse: 23.4284\n",
            "Epoch 76/100\n",
            "13/13 [==============================] - 0s 4ms/step - loss: 3.2284 - mse: 27.0210 - val_loss: 3.2578 - val_mse: 21.9926\n",
            "Epoch 77/100\n",
            "13/13 [==============================] - 0s 4ms/step - loss: 3.2312 - mse: 26.5683 - val_loss: 3.2678 - val_mse: 22.5246\n",
            "Epoch 78/100\n",
            "13/13 [==============================] - 0s 4ms/step - loss: 3.2093 - mse: 26.4002 - val_loss: 3.2523 - val_mse: 22.3271\n",
            "Epoch 79/100\n",
            "13/13 [==============================] - 0s 4ms/step - loss: 3.1996 - mse: 26.6596 - val_loss: 3.2750 - val_mse: 22.1350\n",
            "Epoch 80/100\n",
            "13/13 [==============================] - 0s 4ms/step - loss: 3.1961 - mse: 26.1667 - val_loss: 3.2622 - val_mse: 22.5165\n",
            "Epoch 81/100\n",
            "13/13 [==============================] - 0s 6ms/step - loss: 3.1771 - mse: 26.0686 - val_loss: 3.2195 - val_mse: 21.5551\n",
            "Epoch 82/100\n",
            "13/13 [==============================] - 0s 4ms/step - loss: 3.1652 - mse: 25.9949 - val_loss: 3.2028 - val_mse: 21.1274\n",
            "Epoch 83/100\n",
            "13/13 [==============================] - 0s 4ms/step - loss: 3.1917 - mse: 25.3165 - val_loss: 3.2450 - val_mse: 22.1438\n",
            "Epoch 84/100\n",
            "13/13 [==============================] - 0s 4ms/step - loss: 3.1729 - mse: 25.8084 - val_loss: 3.2097 - val_mse: 21.3942\n",
            "Epoch 85/100\n",
            "13/13 [==============================] - 0s 4ms/step - loss: 3.1596 - mse: 26.1541 - val_loss: 3.1964 - val_mse: 20.2849\n",
            "Epoch 86/100\n",
            "13/13 [==============================] - 0s 5ms/step - loss: 3.1825 - mse: 24.9362 - val_loss: 3.2405 - val_mse: 22.1418\n",
            "Epoch 87/100\n",
            "13/13 [==============================] - 0s 4ms/step - loss: 3.1547 - mse: 25.7130 - val_loss: 3.1916 - val_mse: 20.7237\n",
            "Epoch 88/100\n",
            "13/13 [==============================] - 0s 5ms/step - loss: 3.1328 - mse: 25.4988 - val_loss: 3.1865 - val_mse: 21.0568\n",
            "Epoch 89/100\n",
            "13/13 [==============================] - 0s 4ms/step - loss: 3.1328 - mse: 24.8131 - val_loss: 3.1771 - val_mse: 21.0743\n",
            "Epoch 90/100\n",
            "13/13 [==============================] - 0s 4ms/step - loss: 3.1570 - mse: 25.8731 - val_loss: 3.1627 - val_mse: 20.1985\n",
            "Epoch 91/100\n",
            "13/13 [==============================] - 0s 5ms/step - loss: 3.1190 - mse: 25.4339 - val_loss: 3.1617 - val_mse: 20.5965\n",
            "Epoch 92/100\n",
            "13/13 [==============================] - 0s 4ms/step - loss: 3.1288 - mse: 25.0208 - val_loss: 3.1892 - val_mse: 21.3651\n"
          ],
          "name": "stdout"
        }
      ]
    },
    {
      "cell_type": "code",
      "metadata": {
        "id": "94Le0d7lD_fF",
        "colab_type": "code",
        "colab": {
          "base_uri": "https://localhost:8080/",
          "height": 34
        },
        "outputId": "d1e2163a-d824-4942-b4fd-b3169dac8d7b"
      },
      "source": [
        "print(history.history.keys())\n"
      ],
      "execution_count": 9,
      "outputs": [
        {
          "output_type": "stream",
          "text": [
            "dict_keys(['loss', 'mse', 'val_loss', 'val_mse'])\n"
          ],
          "name": "stdout"
        }
      ]
    },
    {
      "cell_type": "code",
      "metadata": {
        "id": "0AcJCnrYENKC",
        "colab_type": "code",
        "colab": {
          "base_uri": "https://localhost:8080/",
          "height": 295
        },
        "outputId": "167a7dc2-0f45-4643-e7ab-9571c15c136e"
      },
      "source": [
        "# Use the history object that is returned from model.fit to make graphs of the model's loss or train/validation accuracies by epoch.\n",
        "import matplotlib.pyplot as plt\n",
        "\n",
        "plt.plot(history.history['loss'])\n",
        "plt.plot(history.history['val_loss'])\n",
        "# plt.plot(history.history['mean_squared_error'])\n",
        "# plt.plot(history.history['val_mean_squared_error'])\n",
        "plt.title('Model Loss and MSE')\n",
        "plt.ylabel('Loss')\n",
        "plt.xlabel('Epoch')\n",
        "plt.legend(['train', 'test'], loc='upper right')\n",
        "plt.show();"
      ],
      "execution_count": 10,
      "outputs": [
        {
          "output_type": "display_data",
          "data": {
            "image/png": "[encoded data removed]",
            "text/plain": [
              "<Figure size 432x288 with 1 Axes>"
            ]
          },
          "metadata": {
            "tags": [],
            "needs_background": "light"
          }
        }
      ]
    },
    {
      "cell_type": "code",
      "metadata": {
        "id": "qe4MH67kET_Q",
        "colab_type": "code",
        "colab": {
          "base_uri": "https://localhost:8080/",
          "height": 34
        },
        "outputId": "8df6837e-f927-4b29-d01a-69fcf04578e2"
      },
      "source": [
        "# Run this same data through a linear regression model. Which achieves higher accuracy?\n",
        "from sklearn.linear_model import LinearRegression\n",
        "from sklearn.metrics import mean_squared_error as mse\n",
        "\n",
        "(X_train, y_train), (X_test, y_test) = boston_housing.load_data()\n",
        "\n",
        "scaler = MinMaxScaler()\n",
        "\n",
        "X_train_scaled = scaler.fit_transform(X_train)\n",
        "X_test_scaled = scaler.transform(X_test)\n",
        "\n",
        "model = LinearRegression()\n",
        "model.fit(X_train_scaled, y_train)"
      ],
      "execution_count": 11,
      "outputs": [
        {
          "output_type": "execute_result",
          "data": {
            "text/plain": [
              "LinearRegression(copy_X=True, fit_intercept=True, n_jobs=None, normalize=False)"
            ]
          },
          "metadata": {
            "tags": []
          },
          "execution_count": 11
        }
      ]
    },
    {
      "cell_type": "code",
      "metadata": {
        "id": "TrhqrJHLEjXM",
        "colab_type": "code",
        "colab": {
          "base_uri": "https://localhost:8080/",
          "height": 34
        },
        "outputId": "30c85159-2bbf-4072-e9f7-f4edf556b14b"
      },
      "source": [
        "\n",
        "y_predict = model.predict(X_test_scaled)\n",
        "print(f'MSE: {mse(y_test, y_predict)}')"
      ],
      "execution_count": 12,
      "outputs": [
        {
          "output_type": "stream",
          "text": [
            "MSE: 23.19559925642293\n"
          ],
          "name": "stdout"
        }
      ]
    },
    {
      "cell_type": "markdown",
      "metadata": {
        "id": "qINjvT5-FDl5",
        "colab_type": "text"
      },
      "source": [
        "mse: 25.0208 - val_loss: 3.1892 - val_mse: 21.3651\n",
        "\n",
        "My new mse 23.195 is slightly large than my val_mse"
      ]
    },
    {
      "cell_type": "markdown",
      "metadata": {
        "colab_type": "text",
        "id": "SfcFnOONyuNm"
      },
      "source": [
        "## Use the Keras Library to build an image recognition network using the Fashion-MNIST dataset (also comes with keras)\n",
        "\n",
        "- Load and preprocess the image data similar to how we preprocessed the MNIST data in class.\n",
        "- Make sure to one-hot encode your category labels\n",
        "- The number of nodes in your output layer should equal the number of classes you want to predict for Fashion-MNIST.\n",
        "- Try different hyperparameters. What is the highest accuracy that you are able to achieve.\n",
        "- Use the history object that is returned from model.fit to make graphs of the model's loss or train/validation accuracies by epoch. \n",
        "- Remember that neural networks fall prey to randomness so you may need to run your model multiple times (or use Cross Validation) in order to tell if a change to a hyperparameter is truly producing better results."
      ]
    },
    {
      "cell_type": "code",
      "metadata": {
        "id": "0grLxOhbGDV_",
        "colab_type": "code",
        "colab": {}
      },
      "source": [
        "##### Your Code Here #####\n",
        "from tensorflow.keras.datasets import  fashion_mnist"
      ],
      "execution_count": 0,
      "outputs": []
    },
    {
      "cell_type": "code",
      "metadata": {
        "id": "LoMg5rPtGEfg",
        "colab_type": "code",
        "colab": {
          "base_uri": "https://localhost:8080/",
          "height": 170
        },
        "outputId": "93971244-92d9-46c2-8d76-91dcca15cae9"
      },
      "source": [
        "# Load and preprocess the image data similar to how we preprocessed the MNIST data in class.\n",
        "(X_train, y_train), (X_test, y_test) = fashion_mnist.load_data()\n",
        "\n",
        "# X variable types\n",
        "X_train = X_train.astype('float32') / 255.\n",
        "X_test = X_test.astype('float32') / 255.\n",
        "\n",
        "# Encode categorical labels\n",
        "num_classes = 10\n",
        "y_train = keras.utils.to_categorical(y_train, num_classes)\n",
        "y_test = keras.utils.to_categorical(y_test, num_classes)\n",
        "\n",
        "X_train.shape, y_train.shape"
      ],
      "execution_count": 14,
      "outputs": [
        {
          "output_type": "stream",
          "text": [
            "Downloading data from https://storage.googleapis.com/tensorflow/tf-keras-datasets/train-labels-idx1-ubyte.gz\n",
            "32768/29515 [=================================] - 0s 0us/step\n",
            "Downloading data from https://storage.googleapis.com/tensorflow/tf-keras-datasets/train-images-idx3-ubyte.gz\n",
            "26427392/26421880 [==============================] - 0s 0us/step\n",
            "Downloading data from https://storage.googleapis.com/tensorflow/tf-keras-datasets/t10k-labels-idx1-ubyte.gz\n",
            "8192/5148 [===============================================] - 0s 0us/step\n",
            "Downloading data from https://storage.googleapis.com/tensorflow/tf-keras-datasets/t10k-images-idx3-ubyte.gz\n",
            "4423680/4422102 [==============================] - 0s 0us/step\n"
          ],
          "name": "stdout"
        },
        {
          "output_type": "execute_result",
          "data": {
            "text/plain": [
              "((60000, 28, 28), (60000, 10))"
            ]
          },
          "metadata": {
            "tags": []
          },
          "execution_count": 14
        }
      ]
    },
    {
      "cell_type": "code",
      "metadata": {
        "id": "CFDOXzw3GTMG",
        "colab_type": "code",
        "colab": {
          "base_uri": "https://localhost:8080/",
          "height": 1000
        },
        "outputId": "cd7db25c-bd6c-4a47-ab26-768e4741697b"
      },
      "source": [
        "# Define the Model, Complile and Fit the model\n",
        "\n",
        "functions = ['relu', 'elu', 'selu', 'softplus', 'softsign', 'swish', 'tanh']\n",
        "\n",
        "for activation in functions:\n",
        "  model2 = Sequential([\n",
        "      Flatten(input_shape=(28, 28)),\n",
        "      Dense(15, activation=activation),\n",
        "      Dense(10, activation='softmax')\n",
        "  ])\n",
        "\n",
        "  model2.compile(loss = 'categorical_crossentropy', optimizer='nadam', metrics=['accuracy'])\n",
        "\n",
        "  model2.fit(\n",
        "      x = X_train, \n",
        "      y = y_train,\n",
        "      epochs = 10,\n",
        "      validation_data = (X_test, y_test)\n",
        "  )"
      ],
      "execution_count": 15,
      "outputs": [
        {
          "output_type": "stream",
          "text": [
            "Epoch 1/10\n",
            "1875/1875 [==============================] - 3s 2ms/step - loss: 0.6297 - accuracy: 0.7870 - val_loss: 0.4820 - val_accuracy: 0.8326\n",
            "Epoch 2/10\n",
            "1875/1875 [==============================] - 3s 2ms/step - loss: 0.4372 - accuracy: 0.8474 - val_loss: 0.4479 - val_accuracy: 0.8408\n",
            "Epoch 3/10\n",
            "1875/1875 [==============================] - 3s 2ms/step - loss: 0.4061 - accuracy: 0.8579 - val_loss: 0.4308 - val_accuracy: 0.8498\n",
            "Epoch 4/10\n",
            "1875/1875 [==============================] - 3s 2ms/step - loss: 0.3879 - accuracy: 0.8635 - val_loss: 0.4384 - val_accuracy: 0.8416\n",
            "Epoch 5/10\n",
            "1875/1875 [==============================] - 3s 2ms/step - loss: 0.3754 - accuracy: 0.8664 - val_loss: 0.4506 - val_accuracy: 0.8402\n",
            "Epoch 6/10\n",
            "1875/1875 [==============================] - 3s 2ms/step - loss: 0.3672 - accuracy: 0.8694 - val_loss: 0.4169 - val_accuracy: 0.8505\n",
            "Epoch 7/10\n",
            "1875/1875 [==============================] - 3s 2ms/step - loss: 0.3598 - accuracy: 0.8716 - val_loss: 0.4168 - val_accuracy: 0.8511\n",
            "Epoch 8/10\n",
            "1875/1875 [==============================] - 3s 2ms/step - loss: 0.3535 - accuracy: 0.8743 - val_loss: 0.4067 - val_accuracy: 0.8545\n",
            "Epoch 9/10\n",
            "1875/1875 [==============================] - 3s 2ms/step - loss: 0.3484 - accuracy: 0.8749 - val_loss: 0.4064 - val_accuracy: 0.8531\n",
            "Epoch 10/10\n",
            "1875/1875 [==============================] - 3s 2ms/step - loss: 0.3436 - accuracy: 0.8780 - val_loss: 0.4056 - val_accuracy: 0.8550\n",
            "Epoch 1/10\n",
            "1875/1875 [==============================] - 3s 2ms/step - loss: 0.5806 - accuracy: 0.8025 - val_loss: 0.4878 - val_accuracy: 0.8278\n",
            "Epoch 2/10\n",
            "1875/1875 [==============================] - 3s 2ms/step - loss: 0.4368 - accuracy: 0.8475 - val_loss: 0.4533 - val_accuracy: 0.8402\n",
            "Epoch 3/10\n",
            "1875/1875 [==============================] - 3s 2ms/step - loss: 0.4043 - accuracy: 0.8595 - val_loss: 0.4279 - val_accuracy: 0.8495\n",
            "Epoch 4/10\n",
            "1875/1875 [==============================] - 3s 2ms/step - loss: 0.3842 - accuracy: 0.8651 - val_loss: 0.4413 - val_accuracy: 0.8438\n",
            "Epoch 5/10\n",
            "1875/1875 [==============================] - 3s 2ms/step - loss: 0.3718 - accuracy: 0.8684 - val_loss: 0.4307 - val_accuracy: 0.8449\n",
            "Epoch 6/10\n",
            "1875/1875 [==============================] - 3s 2ms/step - loss: 0.3607 - accuracy: 0.8721 - val_loss: 0.4201 - val_accuracy: 0.8525\n",
            "Epoch 7/10\n",
            "1875/1875 [==============================] - 3s 2ms/step - loss: 0.3528 - accuracy: 0.8739 - val_loss: 0.4122 - val_accuracy: 0.8560\n",
            "Epoch 8/10\n",
            "1875/1875 [==============================] - 3s 2ms/step - loss: 0.3450 - accuracy: 0.8763 - val_loss: 0.4055 - val_accuracy: 0.8554\n",
            "Epoch 9/10\n",
            "1875/1875 [==============================] - 3s 2ms/step - loss: 0.3388 - accuracy: 0.8788 - val_loss: 0.3895 - val_accuracy: 0.8644\n",
            "Epoch 10/10\n",
            "1875/1875 [==============================] - 3s 2ms/step - loss: 0.3331 - accuracy: 0.8800 - val_loss: 0.3944 - val_accuracy: 0.8573\n",
            "Epoch 1/10\n",
            "1875/1875 [==============================] - 3s 2ms/step - loss: 0.5631 - accuracy: 0.8082 - val_loss: 0.4875 - val_accuracy: 0.8273\n",
            "Epoch 2/10\n",
            "1875/1875 [==============================] - 3s 2ms/step - loss: 0.4196 - accuracy: 0.8523 - val_loss: 0.4604 - val_accuracy: 0.8373\n",
            "Epoch 3/10\n",
            "1875/1875 [==============================] - 3s 2ms/step - loss: 0.3924 - accuracy: 0.8612 - val_loss: 0.4317 - val_accuracy: 0.8484\n",
            "Epoch 4/10\n",
            "1875/1875 [==============================] - 3s 2ms/step - loss: 0.3779 - accuracy: 0.8654 - val_loss: 0.4438 - val_accuracy: 0.8434\n",
            "Epoch 5/10\n",
            "1875/1875 [==============================] - 3s 2ms/step - loss: 0.3675 - accuracy: 0.8679 - val_loss: 0.4044 - val_accuracy: 0.8595\n",
            "Epoch 6/10\n",
            "1875/1875 [==============================] - 3s 1ms/step - loss: 0.3576 - accuracy: 0.8723 - val_loss: 0.4113 - val_accuracy: 0.8556\n",
            "Epoch 7/10\n",
            "1875/1875 [==============================] - 3s 2ms/step - loss: 0.3514 - accuracy: 0.8730 - val_loss: 0.4044 - val_accuracy: 0.8583\n",
            "Epoch 8/10\n",
            "1875/1875 [==============================] - 3s 2ms/step - loss: 0.3446 - accuracy: 0.8767 - val_loss: 0.3976 - val_accuracy: 0.8593\n",
            "Epoch 9/10\n",
            "1875/1875 [==============================] - 3s 2ms/step - loss: 0.3388 - accuracy: 0.8765 - val_loss: 0.4169 - val_accuracy: 0.8530\n",
            "Epoch 10/10\n",
            "1875/1875 [==============================] - 3s 2ms/step - loss: 0.3326 - accuracy: 0.8792 - val_loss: 0.3913 - val_accuracy: 0.8618\n",
            "Epoch 1/10\n",
            "1875/1875 [==============================] - 3s 2ms/step - loss: 0.5991 - accuracy: 0.7944 - val_loss: 0.4824 - val_accuracy: 0.8314\n",
            "Epoch 2/10\n",
            "1875/1875 [==============================] - 3s 1ms/step - loss: 0.4317 - accuracy: 0.8483 - val_loss: 0.4533 - val_accuracy: 0.8407\n",
            "Epoch 3/10\n",
            "1875/1875 [==============================] - 3s 2ms/step - loss: 0.4035 - accuracy: 0.8589 - val_loss: 0.4293 - val_accuracy: 0.8515\n",
            "Epoch 4/10\n",
            "1875/1875 [==============================] - 3s 1ms/step - loss: 0.3830 - accuracy: 0.8659 - val_loss: 0.4172 - val_accuracy: 0.8536\n",
            "Epoch 5/10\n",
            "1875/1875 [==============================] - 3s 2ms/step - loss: 0.3692 - accuracy: 0.8696 - val_loss: 0.4186 - val_accuracy: 0.8515\n",
            "Epoch 6/10\n",
            "1875/1875 [==============================] - 3s 1ms/step - loss: 0.3579 - accuracy: 0.8734 - val_loss: 0.3978 - val_accuracy: 0.8577\n",
            "Epoch 7/10\n",
            "1875/1875 [==============================] - 3s 2ms/step - loss: 0.3486 - accuracy: 0.8770 - val_loss: 0.4033 - val_accuracy: 0.8563\n",
            "Epoch 8/10\n",
            "1875/1875 [==============================] - 3s 1ms/step - loss: 0.3422 - accuracy: 0.8781 - val_loss: 0.3923 - val_accuracy: 0.8621\n",
            "Epoch 9/10\n",
            "1875/1875 [==============================] - 3s 2ms/step - loss: 0.3372 - accuracy: 0.8793 - val_loss: 0.3954 - val_accuracy: 0.8596\n",
            "Epoch 10/10\n",
            "1875/1875 [==============================] - 3s 2ms/step - loss: 0.3314 - accuracy: 0.8818 - val_loss: 0.4018 - val_accuracy: 0.8571\n",
            "Epoch 1/10\n",
            "1875/1875 [==============================] - 3s 2ms/step - loss: 0.6707 - accuracy: 0.7884 - val_loss: 0.4989 - val_accuracy: 0.8232\n",
            "Epoch 2/10\n",
            "1875/1875 [==============================] - 3s 2ms/step - loss: 0.4436 - accuracy: 0.8446 - val_loss: 0.4733 - val_accuracy: 0.8295\n",
            "Epoch 3/10\n",
            "1875/1875 [==============================] - 3s 2ms/step - loss: 0.4064 - accuracy: 0.8558 - val_loss: 0.4394 - val_accuracy: 0.8433\n",
            "Epoch 4/10\n",
            "1875/1875 [==============================] - 3s 2ms/step - loss: 0.3875 - accuracy: 0.8627 - val_loss: 0.4352 - val_accuracy: 0.8426\n",
            "Epoch 5/10\n",
            "1875/1875 [==============================] - 3s 2ms/step - loss: 0.3748 - accuracy: 0.8679 - val_loss: 0.4123 - val_accuracy: 0.8554\n",
            "Epoch 6/10\n",
            "1875/1875 [==============================] - 3s 2ms/step - loss: 0.3652 - accuracy: 0.8700 - val_loss: 0.4134 - val_accuracy: 0.8529\n",
            "Epoch 7/10\n",
            "1875/1875 [==============================] - 3s 2ms/step - loss: 0.3582 - accuracy: 0.8724 - val_loss: 0.4055 - val_accuracy: 0.8569\n",
            "Epoch 8/10\n",
            "1875/1875 [==============================] - 3s 2ms/step - loss: 0.3520 - accuracy: 0.8743 - val_loss: 0.4249 - val_accuracy: 0.8528\n",
            "Epoch 9/10\n",
            "1875/1875 [==============================] - 3s 2ms/step - loss: 0.3455 - accuracy: 0.8770 - val_loss: 0.4122 - val_accuracy: 0.8520\n",
            "Epoch 10/10\n",
            "1875/1875 [==============================] - 3s 2ms/step - loss: 0.3408 - accuracy: 0.8795 - val_loss: 0.4068 - val_accuracy: 0.8559\n",
            "Epoch 1/10\n",
            "1875/1875 [==============================] - 3s 2ms/step - loss: 0.5955 - accuracy: 0.8014 - val_loss: 0.4873 - val_accuracy: 0.8321\n",
            "Epoch 2/10\n",
            "1875/1875 [==============================] - 3s 2ms/step - loss: 0.4433 - accuracy: 0.8475 - val_loss: 0.4637 - val_accuracy: 0.8384\n",
            "Epoch 3/10\n",
            "1875/1875 [==============================] - 3s 2ms/step - loss: 0.4133 - accuracy: 0.8563 - val_loss: 0.4470 - val_accuracy: 0.8463\n",
            "Epoch 4/10\n",
            "1875/1875 [==============================] - 3s 2ms/step - loss: 0.3963 - accuracy: 0.8619 - val_loss: 0.4313 - val_accuracy: 0.8487\n",
            "Epoch 5/10\n",
            "1875/1875 [==============================] - 3s 2ms/step - loss: 0.3856 - accuracy: 0.8661 - val_loss: 0.4302 - val_accuracy: 0.8472\n",
            "Epoch 6/10\n",
            "1875/1875 [==============================] - 3s 2ms/step - loss: 0.3767 - accuracy: 0.8691 - val_loss: 0.4336 - val_accuracy: 0.8484\n",
            "Epoch 7/10\n",
            "1875/1875 [==============================] - 3s 2ms/step - loss: 0.3699 - accuracy: 0.8713 - val_loss: 0.4395 - val_accuracy: 0.8465\n",
            "Epoch 8/10\n",
            "1875/1875 [==============================] - 3s 2ms/step - loss: 0.3644 - accuracy: 0.8725 - val_loss: 0.4115 - val_accuracy: 0.8562\n",
            "Epoch 9/10\n",
            "1875/1875 [==============================] - 3s 2ms/step - loss: 0.3599 - accuracy: 0.8720 - val_loss: 0.4195 - val_accuracy: 0.8541\n",
            "Epoch 10/10\n",
            "1875/1875 [==============================] - 3s 2ms/step - loss: 0.3545 - accuracy: 0.8741 - val_loss: 0.4205 - val_accuracy: 0.8520\n",
            "Epoch 1/10\n",
            "1875/1875 [==============================] - 3s 2ms/step - loss: 0.5956 - accuracy: 0.8073 - val_loss: 0.4817 - val_accuracy: 0.8340\n",
            "Epoch 2/10\n",
            "1875/1875 [==============================] - 3s 1ms/step - loss: 0.4203 - accuracy: 0.8523 - val_loss: 0.4429 - val_accuracy: 0.8428\n",
            "Epoch 3/10\n",
            "1875/1875 [==============================] - 3s 1ms/step - loss: 0.3887 - accuracy: 0.8622 - val_loss: 0.4310 - val_accuracy: 0.8497\n",
            "Epoch 4/10\n",
            "1875/1875 [==============================] - 3s 2ms/step - loss: 0.3721 - accuracy: 0.8669 - val_loss: 0.4162 - val_accuracy: 0.8533\n",
            "Epoch 5/10\n",
            "1875/1875 [==============================] - 3s 2ms/step - loss: 0.3596 - accuracy: 0.8704 - val_loss: 0.4078 - val_accuracy: 0.8576\n",
            "Epoch 6/10\n",
            "1875/1875 [==============================] - 3s 1ms/step - loss: 0.3505 - accuracy: 0.8746 - val_loss: 0.4125 - val_accuracy: 0.8548\n",
            "Epoch 7/10\n",
            "1875/1875 [==============================] - 3s 2ms/step - loss: 0.3444 - accuracy: 0.8754 - val_loss: 0.4033 - val_accuracy: 0.8577\n",
            "Epoch 8/10\n",
            "1875/1875 [==============================] - 3s 2ms/step - loss: 0.3373 - accuracy: 0.8786 - val_loss: 0.4128 - val_accuracy: 0.8521\n",
            "Epoch 9/10\n",
            "1875/1875 [==============================] - 3s 1ms/step - loss: 0.3318 - accuracy: 0.8798 - val_loss: 0.4000 - val_accuracy: 0.8604\n",
            "Epoch 10/10\n",
            "1875/1875 [==============================] - 3s 2ms/step - loss: 0.3266 - accuracy: 0.8828 - val_loss: 0.4334 - val_accuracy: 0.8486\n"
          ],
          "name": "stdout"
        }
      ]
    },
    {
      "cell_type": "code",
      "metadata": {
        "id": "lNGhDb5oGeXS",
        "colab_type": "code",
        "colab": {
          "base_uri": "https://localhost:8080/",
          "height": 187
        },
        "outputId": "aee54b39-1e33-4b35-cb42-020bf799aa9b"
      },
      "source": [
        "stop = EarlyStopping(monitor='val_accuracy', min_delta=0.01, patience=3)\n",
        "\n",
        "model2 = Sequential([\n",
        "      Flatten(input_shape=(28, 28)),\n",
        "      Dense(15, activation='relu'),\n",
        "      Dense(10, activation='softmax')\n",
        "  ])\n",
        "\n",
        "model2.compile(loss = 'categorical_crossentropy', optimizer='nadam', metrics=['accuracy'])\n",
        "\n",
        "history = model2.fit(\n",
        "      x = X_train, \n",
        "      y = y_train,\n",
        "      epochs = 100,\n",
        "      validation_data = (X_test, y_test),\n",
        "      callbacks = [stop]\n",
        "  )"
      ],
      "execution_count": 16,
      "outputs": [
        {
          "output_type": "stream",
          "text": [
            "Epoch 1/100\n",
            "1875/1875 [==============================] - 3s 2ms/step - loss: 0.6036 - accuracy: 0.7964 - val_loss: 0.4853 - val_accuracy: 0.8301\n",
            "Epoch 2/100\n",
            "1875/1875 [==============================] - 3s 2ms/step - loss: 0.4272 - accuracy: 0.8498 - val_loss: 0.4435 - val_accuracy: 0.8458\n",
            "Epoch 3/100\n",
            "1875/1875 [==============================] - 3s 1ms/step - loss: 0.3974 - accuracy: 0.8597 - val_loss: 0.4336 - val_accuracy: 0.8466\n",
            "Epoch 4/100\n",
            "1875/1875 [==============================] - 3s 1ms/step - loss: 0.3814 - accuracy: 0.8644 - val_loss: 0.4255 - val_accuracy: 0.8496\n",
            "Epoch 5/100\n",
            "1875/1875 [==============================] - 3s 2ms/step - loss: 0.3703 - accuracy: 0.8684 - val_loss: 0.4127 - val_accuracy: 0.8557\n"
          ],
          "name": "stdout"
        }
      ]
    },
    {
      "cell_type": "code",
      "metadata": {
        "id": "ia58C36FGlGw",
        "colab_type": "code",
        "colab": {
          "base_uri": "https://localhost:8080/",
          "height": 34
        },
        "outputId": "5b909b0f-9598-48c6-fc5b-44477112009a"
      },
      "source": [
        "history.history.keys()"
      ],
      "execution_count": 17,
      "outputs": [
        {
          "output_type": "execute_result",
          "data": {
            "text/plain": [
              "dict_keys(['loss', 'accuracy', 'val_loss', 'val_accuracy'])"
            ]
          },
          "metadata": {
            "tags": []
          },
          "execution_count": 17
        }
      ]
    },
    {
      "cell_type": "code",
      "metadata": {
        "id": "vfdV5PT2GpbN",
        "colab_type": "code",
        "colab": {
          "base_uri": "https://localhost:8080/",
          "height": 295
        },
        "outputId": "b8e871ea-a2d9-49de-9141-c191fe1fc425"
      },
      "source": [
        "plt.plot(history.history['loss'])\n",
        "plt.plot(history.history['val_loss'])\n",
        "plt.title('Model Loss')\n",
        "plt.ylabel('Loss')\n",
        "plt.xlabel('Epoch')\n",
        "plt.legend(['train', 'test'], loc='upper right')\n",
        "plt.show();"
      ],
      "execution_count": 18,
      "outputs": [
        {
          "output_type": "display_data",
          "data": {
            "image/png": "[encoded data removed]",
            "text/plain": [
              "<Figure size 432x288 with 1 Axes>"
            ]
          },
          "metadata": {
            "tags": [],
            "needs_background": "light"
          }
        }
      ]
    },
    {
      "cell_type": "code",
      "metadata": {
        "id": "PIznjUEDGsyM",
        "colab_type": "code",
        "colab": {
          "base_uri": "https://localhost:8080/",
          "height": 295
        },
        "outputId": "b2f430eb-ceb1-46a1-9c26-a555c8de5d97"
      },
      "source": [
        "plt.plot(history.history['accuracy'])\n",
        "plt.plot(history.history['val_accuracy'])\n",
        "plt.title('Model Accuracy')\n",
        "plt.ylabel('Accuracy')\n",
        "plt.xlabel('Epoch')\n",
        "plt.legend(['train', 'test'], loc='upper left')\n",
        "plt.show();"
      ],
      "execution_count": 19,
      "outputs": [
        {
          "output_type": "display_data",
          "data": {
            "image/png": "[encoded data removed]",
            "text/plain": [
              "<Figure size 432x288 with 1 Axes>"
            ]
          },
          "metadata": {
            "tags": [],
            "needs_background": "light"
          }
        }
      ]
    },
    {
      "cell_type": "markdown",
      "metadata": {
        "colab_type": "text",
        "id": "zv_3xNMjzdLI"
      },
      "source": [
        "## Stretch Goals:\n",
        "\n",
        "- Use Hyperparameter Tuning to make the accuracy of your models as high as possible. (error as low as possible)\n",
        "- Use Cross Validation techniques to get more consistent results with your model.\n",
        "- Use GridSearchCV to try different combinations of hyperparameters. \n",
        "- Start looking into other types of Keras layers for CNNs and RNNs maybe try and build a CNN model for fashion-MNIST to see how the results compare."
      ]
    }
  ]
}